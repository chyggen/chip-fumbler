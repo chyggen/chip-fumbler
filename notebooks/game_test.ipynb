{
 "cells": [
  {
   "cell_type": "markdown",
   "metadata": {},
   "source": [
    "This notebook is for testing the texasholdem game object and how its attributes, shown by ```pprint.pp(vars(game))```, evolve over the course of a turn. This game object contains all the information on the state of the game and will need to be understood when we implement our agent. "
   ]
  },
  {
   "cell_type": "code",
   "execution_count": 2,
   "metadata": {},
   "outputs": [],
   "source": [
    "from texasholdem.game.game import TexasHoldEm\n",
    "from texasholdem.gui.text_gui import TextGUI\n",
    "from texasholdem.agents.basic import random_agent\n",
    "import pprint\n"
   ]
  },
  {
   "cell_type": "code",
   "execution_count": 3,
   "metadata": {},
   "outputs": [
    {
     "ename": "SyntaxError",
     "evalue": "expected ':' (208669792.py, line 4)",
     "output_type": "error",
     "traceback": [
      "\u001b[1;36m  Cell \u001b[1;32mIn[3], line 4\u001b[1;36m\u001b[0m\n\u001b[1;33m    if game\u001b[0m\n\u001b[1;37m           ^\u001b[0m\n\u001b[1;31mSyntaxError\u001b[0m\u001b[1;31m:\u001b[0m expected ':'\n"
     ]
    }
   ],
   "source": [
    "game = TexasHoldEm(buyin=500, big_blind=5, small_blind=0, max_players=2)\n",
    "while game.is_game_running():\n",
    "    game.start_hand()\n",
    "    if game\n",
    "    while game.is_hand_running():\n",
    "        if game.current_player == 0:\n",
    "            game.take_action(*random_agent(game))\n",
    "        else:\n",
    "            game.take_action(*random_agent(game))\n",
    "    print(game.hand_history.settle.pot_winners)\n"
   ]
  },
  {
   "cell_type": "code",
   "execution_count": 73,
   "metadata": {},
   "outputs": [
    {
     "data": {
      "text/plain": [
       "1"
      ]
     },
     "execution_count": 73,
     "metadata": {},
     "output_type": "execute_result"
    }
   ],
   "source": [
    "list(game.in_pot_iter(game.btn_loc + 1))[0]\n"
   ]
  },
  {
   "cell_type": "code",
   "execution_count": 74,
   "metadata": {},
   "outputs": [
    {
     "data": {
      "text/plain": [
       "{1: [Card(\"Ad\"), Card(\"Ah\")], 0: [Card(\"Ts\"), Card(\"6c\")]}"
      ]
     },
     "execution_count": 74,
     "metadata": {},
     "output_type": "execute_result"
    }
   ],
   "source": [
    "game"
   ]
  },
  {
   "cell_type": "code",
   "execution_count": 93,
   "metadata": {},
   "outputs": [
    {
     "data": {
      "text/plain": [
       "28"
      ]
     },
     "execution_count": 93,
     "metadata": {},
     "output_type": "execute_result"
    }
   ],
   "source": [
    "game.num_hands"
   ]
  },
  {
   "cell_type": "code",
   "execution_count": 69,
   "metadata": {},
   "outputs": [
    {
     "name": "stdout",
     "output_type": "stream",
     "text": [
      "{'buyin': 500,\n",
      " 'big_blind': 5,\n",
      " 'small_blind': 0,\n",
      " 'max_players': 2,\n",
      " 'players': [<texasholdem.game.game.Player object at 0x000001E934B21460>,\n",
      "             <texasholdem.game.game.Player object at 0x000001E934B23260>],\n",
      " 'btn_loc': 0,\n",
      " 'bb_loc': 1,\n",
      " 'sb_loc': 0,\n",
      " 'current_player': 1,\n",
      " 'pots': [<texasholdem.game.game.Pot object at 0x000001E934B230E0>,\n",
      "          <texasholdem.game.game.Pot object at 0x000001E934B23020>],\n",
      " '_deck': <texasholdem.card.deck.Deck object at 0x000001E934B22D50>,\n",
      " 'board': [Card(\"Td\"), Card(\"9s\"), Card(\"Qh\"), Card(\"7d\"), Card(\"Kc\")],\n",
      " 'hands': {1: [Card(\"Ad\"), Card(\"Ah\")], 0: [Card(\"Ts\"), Card(\"6c\")]},\n",
      " 'last_raise': 448,\n",
      " 'raise_option': True,\n",
      " 'num_hands': 28,\n",
      " 'hand_phase': <HandPhase.PREHAND: _HandPhase(new_cards=0, next_phase='PREFLOP')>,\n",
      " 'game_state': <GameState.STOPPED: 2>,\n",
      " '_handstate_handler': {<HandPhase.PREHAND: _HandPhase(new_cards=0, next_phase='PREFLOP')>: <bound method TexasHoldEm._prehand of <texasholdem.game.game.TexasHoldEm object at 0x000001E934972D80>>,\n",
      "                        <HandPhase.PREFLOP: _HandPhase(new_cards=0, next_phase='FLOP')>: <function TexasHoldEm.__init__.<locals>.<lambda> at 0x000001E934F7AB60>,\n",
      "                        <HandPhase.FLOP: _HandPhase(new_cards=3, next_phase='TURN')>: <function TexasHoldEm.__init__.<locals>.<lambda> at 0x000001E934F7AF20>,\n",
      "                        <HandPhase.TURN: _HandPhase(new_cards=1, next_phase='RIVER')>: <function TexasHoldEm.__init__.<locals>.<lambda> at 0x000001E934F794E0>,\n",
      "                        <HandPhase.RIVER: _HandPhase(new_cards=1, next_phase='SETTLE')>: <function TexasHoldEm.__init__.<locals>.<lambda> at 0x000001E934F78220>,\n",
      "                        <HandPhase.SETTLE: _HandPhase(new_cards=0, next_phase='PREHAND')>: <bound method TexasHoldEm._settle of <texasholdem.game.game.TexasHoldEm object at 0x000001E934972D80>>},\n",
      " 'hand_history': History(prehand=PrehandHistory(btn_loc=0,\n",
      "                                                big_blind=5,\n",
      "                                                small_blind=0,\n",
      "                                                player_chips={0: 156, 1: 844},\n",
      "                                                player_cards={1: [Card(\"Ad\"),\n",
      "                                                                  Card(\"Ah\")],\n",
      "                                                              0: [Card(\"Ts\"),\n",
      "                                                                  Card(\"6c\")]}),\n",
      "                         preflop=BettingRoundHistory(new_cards=[],\n",
      "                                                     actions=[PlayerAction(player_id=0,\n",
      "                                                                           action_type=<ActionType.RAISE: 1>,\n",
      "                                                                           total=72,\n",
      "                                                                           value=67),\n",
      "                                                              PlayerAction(player_id=1,\n",
      "                                                                           action_type=<ActionType.RAISE: 1>,\n",
      "                                                                           total=520,\n",
      "                                                                           value=448),\n",
      "                                                              PlayerAction(player_id=0,\n",
      "                                                                           action_type=<ActionType.CALL: 3>,\n",
      "                                                                           total=None,\n",
      "                                                                           value=None)]),\n",
      "                         settle=SettleHistory(new_cards=[Card(\"Td\"),\n",
      "                                                         Card(\"9s\"),\n",
      "                                                         Card(\"Qh\"),\n",
      "                                                         Card(\"7d\"),\n",
      "                                                         Card(\"Kc\")],\n",
      "                                              pot_winners={0: (312, 3327, [1]),\n",
      "                                                           1: (364, -1, [1])}),\n",
      "                         flop=None,\n",
      "                         turn=None,\n",
      "                         river=None),\n",
      " '_action': (<ActionType.CALL: 3>, None),\n",
      " '_hand_gen': <generator object TexasHoldEm._hand_iter at 0x000001E934F70930>}\n"
     ]
    }
   ],
   "source": [
    "pprint.pp(vars(game))\n"
   ]
  },
  {
   "cell_type": "code",
   "execution_count": 27,
   "metadata": {},
   "outputs": [
    {
     "data": {
      "text/plain": [
       "WindowsPath('C:/Users/Chris/src/ece470/chip-fumbler/notebooks/texas.pgn')"
      ]
     },
     "execution_count": 27,
     "metadata": {},
     "output_type": "execute_result"
    }
   ],
   "source": [
    "game.export_history()"
   ]
  },
  {
   "cell_type": "code",
   "execution_count": 3,
   "metadata": {},
   "outputs": [],
   "source": [
    "game.start_hand()"
   ]
  },
  {
   "cell_type": "code",
   "execution_count": 12,
   "metadata": {},
   "outputs": [],
   "source": [
    "while game.take_action(*random_agent(game)):\n",
    "    pass"
   ]
  }
 ],
 "metadata": {
  "kernelspec": {
   "display_name": "Python 3",
   "language": "python",
   "name": "python3"
  },
  "language_info": {
   "codemirror_mode": {
    "name": "ipython",
    "version": 3
   },
   "file_extension": ".py",
   "mimetype": "text/x-python",
   "name": "python",
   "nbconvert_exporter": "python",
   "pygments_lexer": "ipython3",
   "version": "3.12.4"
  }
 },
 "nbformat": 4,
 "nbformat_minor": 2
}
