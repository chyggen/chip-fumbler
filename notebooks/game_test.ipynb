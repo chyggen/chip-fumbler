{
 "cells": [
  {
   "cell_type": "markdown",
   "metadata": {},
   "source": [
    "This notebook is for testing the texasholdem game object and how its attributes, shown by ```pprint.pp(vars(game))```, evolve over the course of a turn. This game object contains all the information on the state of the game and will need to be understood when we implement our agent. "
   ]
  },
  {
   "cell_type": "code",
   "execution_count": 29,
   "metadata": {},
   "outputs": [],
   "source": [
    "from texasholdem.game.game import TexasHoldEm\n",
    "from texasholdem.gui.text_gui import TextGUI\n",
    "from texasholdem.agents.basic import random_agent\n",
    "import pprint\n",
    "\n",
    "game = TexasHoldEm(buyin=500, big_blind=5, small_blind=2, max_players=6)\n"
   ]
  },
  {
   "cell_type": "code",
   "execution_count": 37,
   "metadata": {},
   "outputs": [
    {
     "name": "stdout",
     "output_type": "stream",
     "text": [
      "{'buyin': 500,\n",
      " 'big_blind': 5,\n",
      " 'small_blind': 2,\n",
      " 'max_players': 6,\n",
      " 'players': [<texasholdem.game.game.Player object at 0x00000149DFB58710>,\n",
      "             <texasholdem.game.game.Player object at 0x00000149DFB5A210>,\n",
      "             <texasholdem.game.game.Player object at 0x00000149DFB59160>,\n",
      "             <texasholdem.game.game.Player object at 0x00000149DFB58260>,\n",
      "             <texasholdem.game.game.Player object at 0x00000149DFB58920>,\n",
      "             <texasholdem.game.game.Player object at 0x00000149DFB58560>],\n",
      " 'btn_loc': 3,\n",
      " 'bb_loc': 5,\n",
      " 'sb_loc': 4,\n",
      " 'current_player': 2,\n",
      " 'pots': [<texasholdem.game.game.Pot object at 0x00000149DFB5ABA0>],\n",
      " '_deck': <texasholdem.card.deck.Deck object at 0x00000149DFB59460>,\n",
      " 'board': [],\n",
      " 'hands': {4: [Card(\"7s\"), Card(\"Qd\")],\n",
      "           5: [Card(\"9h\"), Card(\"Qs\")],\n",
      "           0: [Card(\"Jh\"), Card(\"Js\")],\n",
      "           1: [Card(\"Kh\"), Card(\"2s\")],\n",
      "           2: [Card(\"3s\"), Card(\"9s\")],\n",
      "           3: [Card(\"As\"), Card(\"5c\")]},\n",
      " 'last_raise': 268,\n",
      " 'raise_option': True,\n",
      " 'num_hands': 1,\n",
      " 'hand_phase': <HandPhase.PREFLOP: _HandPhase(new_cards=0, next_phase='FLOP')>,\n",
      " 'game_state': <GameState.RUNNING: 1>,\n",
      " '_handstate_handler': {<HandPhase.PREHAND: _HandPhase(new_cards=0, next_phase='PREFLOP')>: <bound method TexasHoldEm._prehand of <texasholdem.game.game.TexasHoldEm object at 0x00000149DFB58620>>,\n",
      "                        <HandPhase.PREFLOP: _HandPhase(new_cards=0, next_phase='FLOP')>: <function TexasHoldEm.__init__.<locals>.<lambda> at 0x00000149DFA63EC0>,\n",
      "                        <HandPhase.FLOP: _HandPhase(new_cards=3, next_phase='TURN')>: <function TexasHoldEm.__init__.<locals>.<lambda> at 0x00000149DFA639C0>,\n",
      "                        <HandPhase.TURN: _HandPhase(new_cards=1, next_phase='RIVER')>: <function TexasHoldEm.__init__.<locals>.<lambda> at 0x00000149DFA62980>,\n",
      "                        <HandPhase.RIVER: _HandPhase(new_cards=1, next_phase='SETTLE')>: <function TexasHoldEm.__init__.<locals>.<lambda> at 0x00000149DFF789A0>,\n",
      "                        <HandPhase.SETTLE: _HandPhase(new_cards=0, next_phase='PREHAND')>: <bound method TexasHoldEm._settle of <texasholdem.game.game.TexasHoldEm object at 0x00000149DFB58620>>},\n",
      " 'hand_history': History(prehand=PrehandHistory(btn_loc=3,\n",
      "                                                big_blind=5,\n",
      "                                                small_blind=2,\n",
      "                                                player_chips={0: 500,\n",
      "                                                              1: 500,\n",
      "                                                              2: 500,\n",
      "                                                              3: 500,\n",
      "                                                              4: 500,\n",
      "                                                              5: 500},\n",
      "                                                player_cards={4: [Card(\"7s\"),\n",
      "                                                                  Card(\"Qd\")],\n",
      "                                                              5: [Card(\"9h\"),\n",
      "                                                                  Card(\"Qs\")],\n",
      "                                                              0: [Card(\"Jh\"),\n",
      "                                                                  Card(\"Js\")],\n",
      "                                                              1: [Card(\"Kh\"),\n",
      "                                                                  Card(\"2s\")],\n",
      "                                                              2: [Card(\"3s\"),\n",
      "                                                                  Card(\"9s\")],\n",
      "                                                              3: [Card(\"As\"),\n",
      "                                                                  Card(\"5c\")]}),\n",
      "                         preflop=BettingRoundHistory(new_cards=[],\n",
      "                                                     actions=[PlayerAction(player_id=0,\n",
      "                                                                           action_type=<ActionType.FOLD: 5>,\n",
      "                                                                           total=None,\n",
      "                                                                           value=None),\n",
      "                                                              PlayerAction(player_id=1,\n",
      "                                                                           action_type=<ActionType.RAISE: 1>,\n",
      "                                                                           total=273,\n",
      "                                                                           value=268)]),\n",
      "                         settle=None,\n",
      "                         flop=None,\n",
      "                         turn=None,\n",
      "                         river=None),\n",
      " '_action': (<ActionType.RAISE: 1>, 273),\n",
      " '_hand_gen': <generator object TexasHoldEm._hand_iter at 0x00000149E0156F60>}\n"
     ]
    }
   ],
   "source": [
    "pprint.pp(vars(game))\n"
   ]
  },
  {
   "cell_type": "code",
   "execution_count": 36,
   "metadata": {},
   "outputs": [
    {
     "ename": "ValueError",
     "evalue": "In the middle of a hand!",
     "output_type": "error",
     "traceback": [
      "\u001b[1;31m---------------------------------------------------------------------------\u001b[0m",
      "\u001b[1;31mValueError\u001b[0m                                Traceback (most recent call last)",
      "Cell \u001b[1;32mIn[36], line 1\u001b[0m\n\u001b[1;32m----> 1\u001b[0m \u001b[43mgame\u001b[49m\u001b[38;5;241;43m.\u001b[39;49m\u001b[43mstart_hand\u001b[49m\u001b[43m(\u001b[49m\u001b[43m)\u001b[49m\n",
      "File \u001b[1;32mc:\\Users\\Chris\\AppData\\Local\\Programs\\Python\\Python312\\Lib\\site-packages\\texasholdem\\game\\game.py:1065\u001b[0m, in \u001b[0;36mTexasHoldEm.start_hand\u001b[1;34m(self)\u001b[0m\n\u001b[0;32m   1056\u001b[0m \u001b[38;5;250m\u001b[39m\u001b[38;5;124;03m\"\"\"\u001b[39;00m\n\u001b[0;32m   1057\u001b[0m \u001b[38;5;124;03mStarts a new hand. Handles :obj:`~texasholdem.game.player_state.PlayerState.SKIP`,\u001b[39;00m\n\u001b[0;32m   1058\u001b[0m \u001b[38;5;124;03mnot enough chips, resetting pots, rotation and posting of blinds, dealing cards, etc.\u001b[39;00m\n\u001b[1;32m   (...)\u001b[0m\n\u001b[0;32m   1062\u001b[0m \n\u001b[0;32m   1063\u001b[0m \u001b[38;5;124;03m\"\"\"\u001b[39;00m\n\u001b[0;32m   1064\u001b[0m \u001b[38;5;28;01mif\u001b[39;00m \u001b[38;5;28mself\u001b[39m\u001b[38;5;241m.\u001b[39mis_hand_running():\n\u001b[1;32m-> 1065\u001b[0m     \u001b[38;5;28;01mraise\u001b[39;00m \u001b[38;5;167;01mValueError\u001b[39;00m(\u001b[38;5;124m\"\u001b[39m\u001b[38;5;124mIn the middle of a hand!\u001b[39m\u001b[38;5;124m\"\u001b[39m)\n\u001b[0;32m   1067\u001b[0m \u001b[38;5;28mself\u001b[39m\u001b[38;5;241m.\u001b[39mhand_phase \u001b[38;5;241m=\u001b[39m HandPhase\u001b[38;5;241m.\u001b[39mPREHAND\n\u001b[0;32m   1068\u001b[0m \u001b[38;5;28mself\u001b[39m\u001b[38;5;241m.\u001b[39m_handstate_handler[\u001b[38;5;28mself\u001b[39m\u001b[38;5;241m.\u001b[39mhand_phase]()\n",
      "\u001b[1;31mValueError\u001b[0m: In the middle of a hand!"
     ]
    }
   ],
   "source": [
    "game.start_hand()"
   ]
  },
  {
   "cell_type": "code",
   "execution_count": 35,
   "metadata": {},
   "outputs": [],
   "source": [
    "game.take_action(*random_agent(game))"
   ]
  }
 ],
 "metadata": {
  "kernelspec": {
   "display_name": "Python 3",
   "language": "python",
   "name": "python3"
  },
  "language_info": {
   "codemirror_mode": {
    "name": "ipython",
    "version": 3
   },
   "file_extension": ".py",
   "mimetype": "text/x-python",
   "name": "python",
   "nbconvert_exporter": "python",
   "pygments_lexer": "ipython3",
   "version": "3.12.4"
  }
 },
 "nbformat": 4,
 "nbformat_minor": 2
}
