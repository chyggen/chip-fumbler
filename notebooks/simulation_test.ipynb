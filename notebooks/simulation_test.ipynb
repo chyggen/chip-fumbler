{
 "cells": [
  {
   "cell_type": "code",
   "execution_count": 2,
   "metadata": {},
   "outputs": [],
   "source": [
    "import sys\n",
    "import os\n",
    "from pathlib import Path\n",
    "\n",
    "# Hack to get access to files defined in the parent directory\n",
    "current_dir = Path.cwd()\n",
    "parent_dir = current_dir.parent\n",
    "sys.path.append(str(parent_dir))\n",
    "\n",
    "from simulation import simulation_1v1, round_robin\n",
    "from agent import Agent, RandomAgent\n",
    "from chromosome import Chromosome"
   ]
  },
  {
   "cell_type": "code",
   "execution_count": 3,
   "metadata": {},
   "outputs": [
    {
     "name": "stdout",
     "output_type": "stream",
     "text": [
      "normal 1v1:\n"
     ]
    },
    {
     "ename": "NameError",
     "evalue": "name 'A0' is not defined",
     "output_type": "error",
     "traceback": [
      "\u001b[1;31m---------------------------------------------------------------------------\u001b[0m",
      "\u001b[1;31mNameError\u001b[0m                                 Traceback (most recent call last)",
      "Cell \u001b[1;32mIn[3], line 6\u001b[0m\n\u001b[0;32m      3\u001b[0m C1 \u001b[38;5;241m=\u001b[39m Chromosome\u001b[38;5;241m.\u001b[39mrandom()\n\u001b[0;32m      5\u001b[0m \u001b[38;5;28mprint\u001b[39m(\u001b[38;5;124m\"\u001b[39m\u001b[38;5;124mnormal 1v1:\u001b[39m\u001b[38;5;124m\"\u001b[39m)\n\u001b[1;32m----> 6\u001b[0m \u001b[38;5;28mprint\u001b[39m(simulation_1v1(\u001b[43mA0\u001b[49m, A1))\n\u001b[0;32m      7\u001b[0m \u001b[38;5;28mprint\u001b[39m()\n\u001b[0;32m     10\u001b[0m \u001b[38;5;28mprint\u001b[39m(\u001b[38;5;124m\"\u001b[39m\u001b[38;5;124m1v1 using chips/hand as the scoring method:\u001b[39m\u001b[38;5;124m\"\u001b[39m)\n",
      "\u001b[1;31mNameError\u001b[0m: name 'A0' is not defined"
     ]
    }
   ],
   "source": [
    "# single game test\n",
    "C0 = Chromosome.random()\n",
    "C1 = Chromosome.random()\n",
    "\n",
    "print(\"normal 1v1:\")\n",
    "print(simulation_1v1(A0, A1))\n",
    "print()\n",
    "\n",
    "\n",
    "print(\"1v1 using chips/hand as the scoring method:\")\n",
    "print(simulation_1v1(C0, C1, scoring_method=\"chips per hand\"))\n"
   ]
  },
  {
   "cell_type": "code",
   "execution_count": null,
   "metadata": {},
   "outputs": [
    {
     "ename": "NameError",
     "evalue": "name 'RandomAgent' is not defined",
     "output_type": "error",
     "traceback": [
      "\u001b[1;31m---------------------------------------------------------------------------\u001b[0m",
      "\u001b[1;31mNameError\u001b[0m                                 Traceback (most recent call last)",
      "Cell \u001b[1;32mIn[1], line 6\u001b[0m\n\u001b[0;32m      2\u001b[0m     \u001b[38;5;28;01mfor\u001b[39;00m i \u001b[38;5;129;01min\u001b[39;00m \u001b[38;5;28mrange\u001b[39m(\u001b[38;5;28mlen\u001b[39m(agents)):\n\u001b[0;32m      3\u001b[0m         \u001b[38;5;28mprint\u001b[39m(\u001b[38;5;124mf\u001b[39m\u001b[38;5;124m\"\u001b[39m\u001b[38;5;124magent \u001b[39m\u001b[38;5;132;01m{\u001b[39;00mi\u001b[38;5;132;01m}\u001b[39;00m\u001b[38;5;124m: \u001b[39m\u001b[38;5;132;01m{\u001b[39;00mscores[agents[i]]\u001b[38;5;132;01m}\u001b[39;00m\u001b[38;5;124m\"\u001b[39m)\n\u001b[1;32m----> 6\u001b[0m agents \u001b[38;5;241m=\u001b[39m [\u001b[43mRandomAgent\u001b[49m(i) \u001b[38;5;28;01mfor\u001b[39;00m i \u001b[38;5;129;01min\u001b[39;00m \u001b[38;5;28mrange\u001b[39m(\u001b[38;5;241m8\u001b[39m)]\n\u001b[0;32m      8\u001b[0m \u001b[38;5;28mprint\u001b[39m(\u001b[38;5;124m\"\u001b[39m\u001b[38;5;124mround robin tournament, scored by wins:\u001b[39m\u001b[38;5;124m\"\u001b[39m)\n\u001b[0;32m      9\u001b[0m scores \u001b[38;5;241m=\u001b[39m round_robin(agents)\n",
      "\u001b[1;31mNameError\u001b[0m: name 'RandomAgent' is not defined"
     ]
    }
   ],
   "source": [
    "def print_scores(agents, scores):\n",
    "    for i in range(len(agents)):\n",
    "        print(f\"agent {i}: {scores[agents[i]]}\")\n",
    "\n",
    "\n",
    "agents = [RandomAgent(i) for i in range(8)]\n",
    "\n",
    "print(\"round robin tournament, scored by wins:\")\n",
    "scores = round_robin(agents)\n",
    "print_scores(scores=scores, agents=agents)\n",
    "print()\n",
    "\n",
    "print(\"round robin tournament, scored by chips per hand::\")\n",
    "scores = round_robin(agents, scoring_method=\"chips per hand\")\n",
    "print_scores(scores=scores, agents=agents)\n",
    "print()\n",
    "\n",
    "print(\"round robin tournament, where each agent plays every other agent 3 times:\")\n",
    "scores = round_robin(agents, cycles=3)\n",
    "print_scores(scores=scores, agents=agents)\n",
    "print()"
   ]
  },
  {
   "cell_type": "code",
   "execution_count": null,
   "metadata": {},
   "outputs": [
    {
     "name": "stdout",
     "output_type": "stream",
     "text": [
      "speed test: seems to run around 14 tournaments per second on my computer\n"
     ]
    },
    {
     "name": "stderr",
     "output_type": "stream",
     "text": [
      "100%|██████████| 100/100 [00:07<00:00, 14.12it/s]\n"
     ]
    }
   ],
   "source": [
    "print(\"speed test: seems to run around 14 tournaments per second on my computer\")\n",
    "from tqdm import tqdm\n",
    "for i in tqdm(range(100)):\n",
    "    round_robin(agents)"
   ]
  }
 ],
 "metadata": {
  "kernelspec": {
   "display_name": "Python 3",
   "language": "python",
   "name": "python3"
  },
  "language_info": {
   "codemirror_mode": {
    "name": "ipython",
    "version": 3
   },
   "file_extension": ".py",
   "mimetype": "text/x-python",
   "name": "python",
   "nbconvert_exporter": "python",
   "pygments_lexer": "ipython3",
   "version": "3.12.4"
  }
 },
 "nbformat": 4,
 "nbformat_minor": 2
}
