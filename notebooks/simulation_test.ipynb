{
 "cells": [
  {
   "cell_type": "code",
   "execution_count": 15,
   "metadata": {},
   "outputs": [],
   "source": [
    "import sys\n",
    "import os\n",
    "from pathlib import Path\n",
    "\n",
    "# Hack to get access to files defined in the parent directory\n",
    "current_dir = Path.cwd()\n",
    "parent_dir = current_dir.parent\n",
    "sys.path.append(str(parent_dir))\n",
    "\n",
    "from simulation import simulation_1v1, round_robin\n",
    "from agent import Agent\n",
    "from chromosome import Chromosome"
   ]
  },
  {
   "cell_type": "code",
   "execution_count": 16,
   "metadata": {},
   "outputs": [
    {
     "name": "stdout",
     "output_type": "stream",
     "text": [
      "normal 1v1:\n",
      "(0, 1)\n",
      "\n",
      "1v1 using chips/hand as the scoring method:\n",
      "(1, 31.25)\n"
     ]
    }
   ],
   "source": [
    "# single game test\n",
    "c = Chromosome(0,0)\n",
    "A0 = Agent(c)\n",
    "A1 = Agent(c)\n",
    "\n",
    "print(\"normal 1v1:\")\n",
    "print(simulation_1v1(A0, A1))\n",
    "print()\n",
    "\n",
    "\n",
    "print(\"1v1 using chips/hand as the scoring method:\")\n",
    "print(simulation_1v1(A0, A1, scoring_method=\"chips per hand\"))\n"
   ]
  },
  {
   "cell_type": "code",
   "execution_count": 17,
   "metadata": {},
   "outputs": [
    {
     "name": "stdout",
     "output_type": "stream",
     "text": [
      "round robin tournament, scored by wins:\n",
      "agent 0: 3\n",
      "agent 1: -5\n",
      "agent 2: 3\n",
      "agent 3: -7\n",
      "agent 4: 5\n",
      "agent 5: 3\n",
      "agent 6: -1\n",
      "agent 7: -1\n",
      "\n",
      "round robin tournament, scored by chips per hand::\n",
      "agent 0: -142.26190476190473\n",
      "agent 1: 32.73809523809528\n",
      "agent 2: -289.2857142857143\n",
      "agent 3: 702.9761904761905\n",
      "agent 4: -682.7586206896551\n",
      "agent 5: 229.16666666666669\n",
      "agent 6: 69.11027568922306\n",
      "agent 7: 80.31501166709879\n",
      "\n"
     ]
    }
   ],
   "source": [
    "def print_scores(agents, scores):\n",
    "    for i in range(len(agents)):\n",
    "        print(f\"agent {i}: {scores[agents[i]]}\")\n",
    "\n",
    "\n",
    "c = Chromosome(0,0)\n",
    "agents = [Agent(c) for i in range(8)]\n",
    "\n",
    "print(\"round robin tournament, scored by wins:\")\n",
    "scores = round_robin(agents)\n",
    "print_scores(scores=scores, agents=agents)\n",
    "print()\n",
    "\n",
    "print(\"round robin tournament, scored by chips per hand::\")\n",
    "scores = round_robin(agents, scoring_method=\"chips per hand\")\n",
    "print_scores(scores=scores, agents=agents)\n",
    "print()\n",
    "\n"
   ]
  },
  {
   "cell_type": "code",
   "execution_count": 18,
   "metadata": {},
   "outputs": [
    {
     "name": "stdout",
     "output_type": "stream",
     "text": [
      "speed test: seems to run around 14 tournaments per second on my computer\n"
     ]
    },
    {
     "name": "stderr",
     "output_type": "stream",
     "text": [
      "100%|██████████| 100/100 [00:06<00:00, 14.38it/s]\n"
     ]
    }
   ],
   "source": [
    "print(\"speed test: seems to run around 14 tournaments per second on my computer\")\n",
    "from tqdm import tqdm\n",
    "for i in tqdm(range(100)):\n",
    "    scores = round_robin(agents)"
   ]
  }
 ],
 "metadata": {
  "kernelspec": {
   "display_name": "Python 3",
   "language": "python",
   "name": "python3"
  },
  "language_info": {
   "codemirror_mode": {
    "name": "ipython",
    "version": 3
   },
   "file_extension": ".py",
   "mimetype": "text/x-python",
   "name": "python",
   "nbconvert_exporter": "python",
   "pygments_lexer": "ipython3",
   "version": "3.12.4"
  }
 },
 "nbformat": 4,
 "nbformat_minor": 2
}
