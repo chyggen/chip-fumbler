{
 "cells": [
  {
   "cell_type": "code",
   "execution_count": 1,
   "metadata": {},
   "outputs": [],
   "source": [
    "import sys\n",
    "import os\n",
    "from pathlib import Path\n",
    "\n",
    "# Hack to get access to files defined in the parent directory\n",
    "current_dir = Path.cwd()\n",
    "parent_dir = current_dir.parent\n",
    "sys.path.append(str(parent_dir))\n",
    "\n",
    "from simulation import simulation_1v1, round_robin\n",
    "from agent import Agent\n",
    "from chromosome import Chromosome"
   ]
  },
  {
   "cell_type": "code",
   "execution_count": 2,
   "metadata": {},
   "outputs": [
    {
     "data": {
      "text/plain": [
       "(1, 83.33333333333333)"
      ]
     },
     "execution_count": 2,
     "metadata": {},
     "output_type": "execute_result"
    }
   ],
   "source": [
    "# single game test\n",
    "c = Chromosome(0,0)\n",
    "A0 = Agent(c)\n",
    "A1 = Agent(c)\n",
    "\n",
    "simulation_1v1(A0, A1)"
   ]
  },
  {
   "cell_type": "code",
   "execution_count": 3,
   "metadata": {},
   "outputs": [],
   "source": [
    "import itertools"
   ]
  },
  {
   "cell_type": "code",
   "execution_count": 5,
   "metadata": {},
   "outputs": [
    {
     "data": {
      "text/plain": [
       "[(<agent.Agent at 0x1e17e732cf0>, 480.501012934393),\n",
       " (<agent.Agent at 0x1e17e7aaa80>, 179.4172494172494),\n",
       " (<agent.Agent at 0x1e17e7ab7a0>, 141.23931623931622),\n",
       " (<agent.Agent at 0x1e17e7ab770>, 50.804668304668304),\n",
       " (<agent.Agent at 0x1e17e7aab40>, -105.33910533910534),\n",
       " (<agent.Agent at 0x1e17e7a8440>, -107.45853608756835),\n",
       " (<agent.Agent at 0x1e17e732ae0>, -308.1531531531532),\n",
       " (<agent.Agent at 0x1e17e731160>, -331.01145231580017)]"
      ]
     },
     "metadata": {},
     "output_type": "display_data"
    }
   ],
   "source": [
    "# tournament test\n",
    "c = Chromosome(0,0)\n",
    "agents = [Agent(c) for i in range(8)]\n",
    "scores = round_robin(agents)\n",
    "\n",
    "display(scores)"
   ]
  },
  {
   "cell_type": "code",
   "execution_count": null,
   "metadata": {},
   "outputs": [],
   "source": []
  }
 ],
 "metadata": {
  "kernelspec": {
   "display_name": "Python 3",
   "language": "python",
   "name": "python3"
  },
  "language_info": {
   "codemirror_mode": {
    "name": "ipython",
    "version": 3
   },
   "file_extension": ".py",
   "mimetype": "text/x-python",
   "name": "python",
   "nbconvert_exporter": "python",
   "pygments_lexer": "ipython3",
   "version": "3.12.4"
  }
 },
 "nbformat": 4,
 "nbformat_minor": 2
}
