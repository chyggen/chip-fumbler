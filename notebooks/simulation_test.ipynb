{
 "cells": [
  {
   "cell_type": "code",
   "execution_count": 27,
   "metadata": {},
   "outputs": [],
   "source": [
    "import sys\n",
    "import os\n",
    "from pathlib import Path\n",
    "\n",
    "# Hack to get access to files defined in the parent directory\n",
    "current_dir = Path.cwd()\n",
    "parent_dir = current_dir.parent\n",
    "sys.path.append(str(parent_dir))\n",
    "\n",
    "from simulation import simulation_1v1, round_robin\n",
    "from agent import Agent, RandomAgent\n",
    "from chromosome import Chromosome"
   ]
  },
  {
   "cell_type": "code",
   "execution_count": 28,
   "metadata": {},
   "outputs": [
    {
     "name": "stdout",
     "output_type": "stream",
     "text": [
      "normal 1v1:\n",
      "(1, 1)\n",
      "\n",
      "1v1 using chips/hand as the scoring method:\n",
      "(0, 2.347417840375587)\n"
     ]
    }
   ],
   "source": [
    "# single game test\n",
    "C0 = Chromosome.random()\n",
    "C1 = Chromosome.random()\n",
    "\n",
    "print(\"normal 1v1:\")\n",
    "print(simulation_1v1(C0, C1))\n",
    "print()\n",
    "\n",
    "\n",
    "print(\"1v1 using chips/hand as the scoring method:\")\n",
    "print(simulation_1v1(C0, C1, scoring_method=\"chips per hand\"))\n"
   ]
  },
  {
   "cell_type": "code",
   "execution_count": 29,
   "metadata": {},
   "outputs": [
    {
     "name": "stdout",
     "output_type": "stream",
     "text": [
      "round robin tournament, scored by wins:\n"
     ]
    },
    {
     "ename": "TypeError",
     "evalue": "tuple indices must be integers or slices, not Chromosome",
     "output_type": "error",
     "traceback": [
      "\u001b[1;31m---------------------------------------------------------------------------\u001b[0m",
      "\u001b[1;31mTypeError\u001b[0m                                 Traceback (most recent call last)",
      "Cell \u001b[1;32mIn[29], line 10\u001b[0m\n\u001b[0;32m      8\u001b[0m \u001b[38;5;28mprint\u001b[39m(\u001b[38;5;124m\"\u001b[39m\u001b[38;5;124mround robin tournament, scored by wins:\u001b[39m\u001b[38;5;124m\"\u001b[39m)\n\u001b[0;32m      9\u001b[0m scores \u001b[38;5;241m=\u001b[39m round_robin(chromosomes)\n\u001b[1;32m---> 10\u001b[0m \u001b[43mprint_scores\u001b[49m\u001b[43m(\u001b[49m\u001b[43mscores\u001b[49m\u001b[38;5;241;43m=\u001b[39;49m\u001b[43mscores\u001b[49m\u001b[43m,\u001b[49m\u001b[43m \u001b[49m\u001b[43magents\u001b[49m\u001b[38;5;241;43m=\u001b[39;49m\u001b[43mchromosomes\u001b[49m\u001b[43m)\u001b[49m\n\u001b[0;32m     11\u001b[0m \u001b[38;5;28mprint\u001b[39m()\n\u001b[0;32m     13\u001b[0m \u001b[38;5;28mprint\u001b[39m(\u001b[38;5;124m\"\u001b[39m\u001b[38;5;124mround robin tournament, scored by chips per hand::\u001b[39m\u001b[38;5;124m\"\u001b[39m)\n",
      "Cell \u001b[1;32mIn[29], line 3\u001b[0m, in \u001b[0;36mprint_scores\u001b[1;34m(agents, scores)\u001b[0m\n\u001b[0;32m      1\u001b[0m \u001b[38;5;28;01mdef\u001b[39;00m \u001b[38;5;21mprint_scores\u001b[39m(agents, scores):\n\u001b[0;32m      2\u001b[0m     \u001b[38;5;28;01mfor\u001b[39;00m i \u001b[38;5;129;01min\u001b[39;00m \u001b[38;5;28mrange\u001b[39m(\u001b[38;5;28mlen\u001b[39m(agents)):\n\u001b[1;32m----> 3\u001b[0m         \u001b[38;5;28mprint\u001b[39m(\u001b[38;5;124mf\u001b[39m\u001b[38;5;124m\"\u001b[39m\u001b[38;5;124magent \u001b[39m\u001b[38;5;132;01m{\u001b[39;00mi\u001b[38;5;132;01m}\u001b[39;00m\u001b[38;5;124m: \u001b[39m\u001b[38;5;132;01m{\u001b[39;00mscores[agents[i]]\u001b[38;5;132;01m}\u001b[39;00m\u001b[38;5;124m\"\u001b[39m)\n",
      "\u001b[1;31mTypeError\u001b[0m: tuple indices must be integers or slices, not Chromosome"
     ]
    }
   ],
   "source": [
    "def print_scores(agents, scores):\n",
    "    for i in range(len(agents)):\n",
    "        print(f\"agent {i}: {scores[agents[i]]}\")\n",
    "\n",
    "\n",
    "chromosomes = [Chromosome.random() for _ in range(8)]\n",
    "\n",
    "print(\"round robin tournament, scored by wins:\")\n",
    "scores = round_robin(chromosomes)\n",
    "print_scores(scores=scores, agents=chromosomes)\n",
    "print()\n",
    "\n",
    "print(\"round robin tournament, scored by chips per hand::\")\n",
    "scores = round_robin(chromosomes, scoring_method=\"chips per hand\")\n",
    "print_scores(scores=scores, agents=chromosomes)\n",
    "print()\n",
    "\n",
    "print(\"round robin tournament, where each agent plays every other agent 3 times:\")\n",
    "scores = round_robin(chromosomes, cycles=3)\n",
    "print_scores(scores=scores, agents=chromosomes)\n",
    "print()"
   ]
  },
  {
   "cell_type": "code",
   "execution_count": null,
   "metadata": {},
   "outputs": [
    {
     "name": "stdout",
     "output_type": "stream",
     "text": [
      "speed test: seems to run around 14 tournaments per second on my computer\n"
     ]
    },
    {
     "name": "stderr",
     "output_type": "stream",
     "text": [
      "  0%|          | 0/100 [00:00<?, ?it/s]\n"
     ]
    },
    {
     "ename": "NameError",
     "evalue": "name 'agents' is not defined",
     "output_type": "error",
     "traceback": [
      "\u001b[1;31m---------------------------------------------------------------------------\u001b[0m",
      "\u001b[1;31mNameError\u001b[0m                                 Traceback (most recent call last)",
      "Cell \u001b[1;32mIn[4], line 4\u001b[0m\n\u001b[0;32m      2\u001b[0m \u001b[38;5;28;01mfrom\u001b[39;00m \u001b[38;5;21;01mtqdm\u001b[39;00m \u001b[38;5;28;01mimport\u001b[39;00m tqdm\n\u001b[0;32m      3\u001b[0m \u001b[38;5;28;01mfor\u001b[39;00m i \u001b[38;5;129;01min\u001b[39;00m tqdm(\u001b[38;5;28mrange\u001b[39m(\u001b[38;5;241m100\u001b[39m)):\n\u001b[1;32m----> 4\u001b[0m     round_robin(\u001b[43magents\u001b[49m)\n",
      "\u001b[1;31mNameError\u001b[0m: name 'agents' is not defined"
     ]
    }
   ],
   "source": [
    "print(\"speed test: seems to run around 14 tournaments per second on my computer\")\n",
    "from tqdm import tqdm\n",
    "for i in tqdm(range(100)):\n",
    "    round_robin(agents)"
   ]
  },
  {
   "cell_type": "code",
   "execution_count": null,
   "metadata": {},
   "outputs": [],
   "source": [
    "import sys\n",
    "import os\n",
    "from pathlib import Path\n",
    "\n",
    "# Hack to get access to files defined in the parent directory\n",
    "current_dir = Path.cwd()\n",
    "parent_dir = current_dir.parent\n",
    "sys.path.append(str(parent_dir))\n",
    "\n",
    "from simulation import simulation_1v1, round_robin\n",
    "from agent import Agent, RandomAgent\n",
    "from chromosome import Chromosome"
   ]
  },
  {
   "cell_type": "code",
   "execution_count": null,
   "metadata": {},
   "outputs": [
    {
     "name": "stdout",
     "output_type": "stream",
     "text": [
      "normal 1v1:\n",
      "(1, 1)\n",
      "\n",
      "1v1 using chips/hand as the scoring method:\n",
      "(1, 6.329113924050633)\n"
     ]
    }
   ],
   "source": [
    "# single game test\n",
    "C0 = Chromosome.random()\n",
    "C1 = Chromosome.random()\n",
    "\n",
    "print(\"normal 1v1:\")\n",
    "print(simulation_1v1(C0, C1))\n",
    "print()\n",
    "\n",
    "\n",
    "print(\"1v1 using chips/hand as the scoring method:\")\n",
    "print(simulation_1v1(C0, C1, scoring_method=\"chips per hand\"))\n"
   ]
  },
  {
   "cell_type": "code",
   "execution_count": null,
   "metadata": {},
   "outputs": [],
   "source": [
    "def print_scores(agents, scores):\n",
    "    for i in range(len(agents)):\n",
    "        print(f\"agent {i}: {scores[agents[i]]}\")\n",
    "\n",
    "\n",
    "chromosomes = [Chromosome.random() for i in range(8)]\n",
    "\n",
    "print(\"round robin tournament, scored by wins:\")\n",
    "scores = round_robin(chromosomes)\n",
    "print_scores(scores=scores, agents=chromosomes)\n",
    "print()\n",
    "\n",
    "print(\"round robin tournament, scored by chips per hand::\")\n",
    "scores = round_robin(chromosomes, scoring_method=\"chips per hand\")\n",
    "print_scores(scores=scores, agents=chromosomes)\n",
    "print()\n",
    "\n",
    "print(\"round robin tournament, where each agent plays every other agent 3 times:\")\n",
    "scores = round_robin(chromosomes, cycles=3)\n",
    "print_scores(scores=scores, agents=chromosomes)\n",
    "print()"
   ]
  },
  {
   "cell_type": "code",
   "execution_count": null,
   "metadata": {},
   "outputs": [
    {
     "name": "stdout",
     "output_type": "stream",
     "text": [
      "speed test: seems to run around 14 tournaments per second on my computer\n"
     ]
    },
    {
     "name": "stderr",
     "output_type": "stream",
     "text": [
      "  0%|          | 0/100 [00:00<?, ?it/s]\n"
     ]
    },
    {
     "ename": "NameError",
     "evalue": "name 'round_robin' is not defined",
     "output_type": "error",
     "traceback": [
      "\u001b[1;31m---------------------------------------------------------------------------\u001b[0m",
      "\u001b[1;31mNameError\u001b[0m                                 Traceback (most recent call last)",
      "Cell \u001b[1;32mIn[1], line 4\u001b[0m\n\u001b[0;32m      2\u001b[0m \u001b[38;5;28;01mfrom\u001b[39;00m \u001b[38;5;21;01mtqdm\u001b[39;00m \u001b[38;5;28;01mimport\u001b[39;00m tqdm\n\u001b[0;32m      3\u001b[0m \u001b[38;5;28;01mfor\u001b[39;00m i \u001b[38;5;129;01min\u001b[39;00m tqdm(\u001b[38;5;28mrange\u001b[39m(\u001b[38;5;241m100\u001b[39m)):\n\u001b[1;32m----> 4\u001b[0m     \u001b[43mround_robin\u001b[49m(agents)\n",
      "\u001b[1;31mNameError\u001b[0m: name 'round_robin' is not defined"
     ]
    }
   ],
   "source": [
    "print(\"speed test: seems to run around 14 tournaments per second on my computer\")\n",
    "from tqdm import tqdm\n",
    "for i in tqdm(range(100)):\n",
    "    round_robin(agents)"
   ]
  }
 ],
 "metadata": {
  "kernelspec": {
   "display_name": "Python 3",
   "language": "python",
   "name": "python3"
  },
  "language_info": {
   "codemirror_mode": {
    "name": "ipython",
    "version": 3
   },
   "file_extension": ".py",
   "mimetype": "text/x-python",
   "name": "python",
   "nbconvert_exporter": "python",
   "pygments_lexer": "ipython3",
   "version": "3.10.5"
  }
 },
 "nbformat": 4,
 "nbformat_minor": 2
}
