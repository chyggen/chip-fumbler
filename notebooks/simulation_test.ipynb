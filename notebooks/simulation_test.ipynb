{
 "cells": [
  {
   "cell_type": "code",
   "execution_count": 1,
   "metadata": {},
   "outputs": [],
   "source": [
    "import sys\n",
    "import os\n",
    "from pathlib import Path\n",
    "\n",
    "# Hack to get access to files defined in the parent directory\n",
    "current_dir = Path.cwd()\n",
    "parent_dir = current_dir.parent\n",
    "sys.path.append(str(parent_dir))\n",
    "\n",
    "from simulation import simulation_1v1, round_robin\n",
    "from agent import Agent, RandomAgent\n",
    "from chromosome import Chromosome"
   ]
  },
  {
   "cell_type": "code",
   "execution_count": 2,
   "metadata": {},
   "outputs": [
    {
     "name": "stdout",
     "output_type": "stream",
     "text": [
      "normal 1v1:\n",
      "(1, 1)\n",
      "\n",
      "1v1 using chips/hand as the scoring method:\n",
      "(1, 25.0)\n"
     ]
    }
   ],
   "source": [
    "# single game test\n",
    "A0 = RandomAgent(0)\n",
    "A1 = RandomAgent(1)\n",
    "\n",
    "print(\"normal 1v1:\")\n",
    "print(simulation_1v1(A0, A1))\n",
    "print()\n",
    "\n",
    "\n",
    "print(\"1v1 using chips/hand as the scoring method:\")\n",
    "print(simulation_1v1(A0, A1, scoring_method=\"chips per hand\"))\n"
   ]
  },
  {
   "cell_type": "code",
   "execution_count": 14,
   "metadata": {},
   "outputs": [
    {
     "name": "stdout",
     "output_type": "stream",
     "text": [
      "round robin tournament, scored by wins:\n",
      "agent 0: -1\n",
      "agent 1: -1\n",
      "agent 2: 1\n",
      "agent 3: -1\n",
      "agent 4: -1\n",
      "agent 5: 3\n",
      "agent 6: -1\n",
      "agent 7: 1\n",
      "\n",
      "round robin tournament, scored by chips per hand::\n",
      "agent 0: -189.54173067076292\n",
      "agent 1: -460.1495726495727\n",
      "agent 2: 128.5027696318019\n",
      "agent 3: 1020.4777145566619\n",
      "agent 4: -500.00702878992354\n",
      "agent 5: 53.165109744057105\n",
      "agent 6: -73.33019833019833\n",
      "agent 7: 20.882936507936506\n",
      "\n",
      "round robin tournament, where each agent plays every other agent 3 times:\n",
      "agent 0: 9\n",
      "agent 1: -3\n",
      "agent 2: 3\n",
      "agent 3: 1\n",
      "agent 4: -3\n",
      "agent 5: -3\n",
      "agent 6: 5\n",
      "agent 7: -9\n",
      "\n"
     ]
    }
   ],
   "source": [
    "def print_scores(agents, scores):\n",
    "    for i in range(len(agents)):\n",
    "        print(f\"agent {i}: {scores[agents[i]]}\")\n",
    "\n",
    "\n",
    "agents = [RandomAgent(i) for i in range(8)]\n",
    "\n",
    "print(\"round robin tournament, scored by wins:\")\n",
    "scores = round_robin(agents)\n",
    "print_scores(scores=scores, agents=agents)\n",
    "print()\n",
    "\n",
    "print(\"round robin tournament, scored by chips per hand::\")\n",
    "scores = round_robin(agents, scoring_method=\"chips per hand\")\n",
    "print_scores(scores=scores, agents=agents)\n",
    "print()\n",
    "\n",
    "print(\"round robin tournament, where each agent plays every other agent 3 times:\")\n",
    "scores = round_robin(agents, cycles=3)\n",
    "print_scores(scores=scores, agents=agents)\n",
    "print()"
   ]
  },
  {
   "cell_type": "code",
   "execution_count": 7,
   "metadata": {},
   "outputs": [
    {
     "name": "stdout",
     "output_type": "stream",
     "text": [
      "speed test: seems to run around 14 tournaments per second on my computer\n"
     ]
    },
    {
     "name": "stderr",
     "output_type": "stream",
     "text": [
      "100%|██████████| 100/100 [00:07<00:00, 14.12it/s]\n"
     ]
    }
   ],
   "source": [
    "print(\"speed test: seems to run around 14 tournaments per second on my computer\")\n",
    "from tqdm import tqdm\n",
    "for i in tqdm(range(100)):\n",
    "    round_robin(agents)"
   ]
  }
 ],
 "metadata": {
  "kernelspec": {
   "display_name": "Python 3",
   "language": "python",
   "name": "python3"
  },
  "language_info": {
   "codemirror_mode": {
    "name": "ipython",
    "version": 3
   },
   "file_extension": ".py",
   "mimetype": "text/x-python",
   "name": "python",
   "nbconvert_exporter": "python",
   "pygments_lexer": "ipython3",
   "version": "3.12.4"
  }
 },
 "nbformat": 4,
 "nbformat_minor": 2
}
